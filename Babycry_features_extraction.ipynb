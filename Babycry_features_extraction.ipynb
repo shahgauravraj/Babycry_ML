{
  "nbformat": 4,
  "nbformat_minor": 0,
  "metadata": {
    "colab": {
      "name": "babycry_features",
      "provenance": []
    },
    "kernelspec": {
      "name": "python3",
      "display_name": "Python 3"
    },
    "language_info": {
      "name": "python"
    }
  },
  "cells": [
    {
      "cell_type": "code",
      "metadata": {
        "id": "Isc5m-a2_qkl"
      },
      "source": [
        "!pip install librosa PySoundFile ffmpeg wandb"
      ],
      "execution_count": null,
      "outputs": []
    },
    {
      "cell_type": "code",
      "metadata": {
        "id": "gnD8eEn1ApaX"
      },
      "source": [
        "import librosa\n",
        "import wandb\n",
        "import numpy as np\n",
        "import pandas as pd\n",
        "from glob import glob\n",
        "from collections import defaultdict"
      ],
      "execution_count": null,
      "outputs": []
    },
    {
      "cell_type": "code",
      "metadata": {
        "colab": {
          "base_uri": "https://localhost:8080/",
          "height": 143
        },
        "id": "1Iy5IzkM_1k-",
        "outputId": "8e8c9fd6-b424-474d-a96e-31c9e32f7133"
      },
      "source": [
        "run = wandb.init('babycry', entity='babycry', name='data_upload')\n",
        "artifact = run.use_artifact('bijin/baby_cry/baby_cry_split_with_ambient:v4', type='audio')\n",
        "data_dir = artifact.download()"
      ],
      "execution_count": null,
      "outputs": [
        {
          "output_type": "display_data",
          "data": {
            "application/javascript": [
              "\n",
              "        window._wandbApiKey = new Promise((resolve, reject) => {\n",
              "            function loadScript(url) {\n",
              "            return new Promise(function(resolve, reject) {\n",
              "                let newScript = document.createElement(\"script\");\n",
              "                newScript.onerror = reject;\n",
              "                newScript.onload = resolve;\n",
              "                document.body.appendChild(newScript);\n",
              "                newScript.src = url;\n",
              "            });\n",
              "            }\n",
              "            loadScript(\"https://cdn.jsdelivr.net/npm/postmate/build/postmate.min.js\").then(() => {\n",
              "            const iframe = document.createElement('iframe')\n",
              "            iframe.style.cssText = \"width:0;height:0;border:none\"\n",
              "            document.body.appendChild(iframe)\n",
              "            const handshake = new Postmate({\n",
              "                container: iframe,\n",
              "                url: 'https://wandb.ai/authorize'\n",
              "            });\n",
              "            const timeout = setTimeout(() => reject(\"Couldn't auto authenticate\"), 5000)\n",
              "            handshake.then(function(child) {\n",
              "                child.on('authorize', data => {\n",
              "                    clearTimeout(timeout)\n",
              "                    resolve(data)\n",
              "                });\n",
              "            });\n",
              "            })\n",
              "        });\n",
              "    "
            ],
            "text/plain": [
              "<IPython.core.display.Javascript object>"
            ]
          },
          "metadata": {}
        },
        {
          "output_type": "stream",
          "name": "stderr",
          "text": [
            "\u001b[34m\u001b[1mwandb\u001b[0m: You can find your API key in your browser here: https://wandb.ai/authorize\n"
          ]
        },
        {
          "name": "stdout",
          "output_type": "stream",
          "text": [
            "wandb: Paste an API key from your profile and hit enter, or press ctrl+c to quit: ··········\n"
          ]
        },
        {
          "output_type": "stream",
          "name": "stderr",
          "text": [
            "\u001b[34m\u001b[1mwandb\u001b[0m: Appending key for api.wandb.ai to your netrc file: /root/.netrc\n"
          ]
        },
        {
          "output_type": "display_data",
          "data": {
            "text/html": [
              "\n",
              "                    Syncing run <strong><a href=\"https://wandb.ai/babycry/uncategorized/runs/gcvocge4\" target=\"_blank\">data_upload</a></strong> to <a href=\"https://wandb.ai/babycry/uncategorized\" target=\"_blank\">Weights & Biases</a> (<a href=\"https://docs.wandb.com/integrations/jupyter.html\" target=\"_blank\">docs</a>).<br/>\n",
              "\n",
              "                "
            ],
            "text/plain": [
              "<IPython.core.display.HTML object>"
            ]
          },
          "metadata": {}
        },
        {
          "output_type": "stream",
          "name": "stderr",
          "text": [
            "\u001b[34m\u001b[1mwandb\u001b[0m: Downloading large artifact baby_cry_split_with_ambient:v4, 1166.74MB. 3823 files... Done. 0:0:0\n"
          ]
        },
        {
          "output_type": "execute_result",
          "data": {
            "application/vnd.google.colaboratory.intrinsic+json": {
              "type": "string"
            },
            "text/plain": [
              "'./artifacts/baby_cry_split_with_ambient:v4'"
            ]
          },
          "metadata": {},
          "execution_count": 2
        }
      ]
    },
    {
      "cell_type": "code",
      "metadata": {
        "colab": {
          "base_uri": "https://localhost:8080/"
        },
        "id": "fcjlgny7AwNZ",
        "outputId": "72149534-b509-4070-b304-e7437ce5c243"
      },
      "source": [
        "dirs = glob(f\"{data_dir}/*\")"
      ],
      "execution_count": null,
      "outputs": [
        {
          "output_type": "execute_result",
          "data": {
            "text/plain": [
              "['./artifacts/baby_cry_split_with_ambient:v4/hungry',\n",
              " './artifacts/baby_cry_split_with_ambient:v4/sleepy',\n",
              " './artifacts/baby_cry_split_with_ambient:v4/uncomfortable',\n",
              " './artifacts/baby_cry_split_with_ambient:v4/ambient',\n",
              " './artifacts/baby_cry_split_with_ambient:v4/hug',\n",
              " './artifacts/baby_cry_split_with_ambient:v4/awake']"
            ]
          },
          "metadata": {},
          "execution_count": 21
        }
      ]
    },
    {
      "cell_type": "code",
      "metadata": {
        "id": "5gl5SVBfARL-"
      },
      "source": [
        "def get_features(path):\n",
        "    sample, sr = librosa.load(path, sr=16000)\n",
        "    # magnitude = \n",
        "    avg = np.mean(sample, keepdims=True)[0]\n",
        "    variance = np.var(sample, keepdims=True)[0]\n",
        "    bandwidth = librosa.feature.spectral_bandwidth(sample, sr=sr)[0]\n",
        "    centroid = librosa.feature.spectral_centroid(sample, sr=sr)[0]\n",
        "    rolloff = librosa.feature.spectral_rolloff(sample, sr=sr)[0]\n",
        "    rms = librosa.feature.rms(sample)[0]\n",
        "    zero_crossing_rate = librosa.feature.zero_crossing_rate(sample)[0]\n",
        "    peak = np.max(sample)\n",
        "    valley = np.min(sample)\n",
        "    contrast = librosa.feature.spectral_contrast(sample, sr)\n",
        "    # pitch =  \n",
        "    # formant =\n",
        "    # lpcc = \n",
        "    mfcc = librosa.feature.mfcc(sample, sr=sr)\n",
        "    return [\n",
        "            # magnitude,\n",
        "            avg,\n",
        "            variance, \n",
        "            bandwidth,\n",
        "            centroid,\n",
        "            rolloff,\n",
        "            rms,\n",
        "            zero_crossing_rate,\n",
        "            peak,\n",
        "            valley,\n",
        "            contrast,\n",
        "            # pitch,\n",
        "            # formant, \n",
        "            # lfcc,\n",
        "            mfcc\n",
        "    ] "
      ],
      "execution_count": null,
      "outputs": []
    },
    {
      "cell_type": "code",
      "metadata": {
        "id": "xUkItrSEBCRf"
      },
      "source": [
        "def build_features():\n",
        "    columns = [\n",
        "            # magnitude,\n",
        "            'avg',\n",
        "            'variance', \n",
        "            'bandwidth',\n",
        "            'centroid',\n",
        "            'rolloff',\n",
        "            'rms',\n",
        "            'zero_crossing_rate',\n",
        "            'peak',\n",
        "            'valley',\n",
        "            'contrast',\n",
        "            # pitch,\n",
        "            # formant, \n",
        "            # lfcc,\n",
        "            'mfcc'\n",
        "    ]\n",
        "\n",
        "    rows = defaultdict(list)\n",
        "    for dir in dirs:\n",
        "        label = dir.split('/')[-1]\n",
        "        files = glob(f'{dir}/*.wav')\n",
        "        for fi in files:\n",
        "            features = get_features(fi)\n",
        "            rows['label'].append(label)\n",
        "            for c, f in zip(columns, features):\n",
        "                rows[c].append(f)\n",
        "    return pd.DataFrame(rows)"
      ],
      "execution_count": null,
      "outputs": []
    },
    {
      "cell_type": "code",
      "metadata": {
        "id": "ytD29tnHIVqD"
      },
      "source": [
        "df = build_features()"
      ],
      "execution_count": null,
      "outputs": []
    },
    {
      "cell_type": "code",
      "metadata": {
        "id": "Pqtiz6hfIXZJ"
      },
      "source": [
        "df.to_csv('extracted_features.csv')"
      ],
      "execution_count": null,
      "outputs": []
    },
    {
      "cell_type": "code",
      "metadata": {
        "colab": {
          "base_uri": "https://localhost:8080/"
        },
        "id": "MzdutkjYNxtr",
        "outputId": "b274777f-6f6c-4f75-f04b-1f4091eeac17"
      },
      "source": [
        "df.info()"
      ],
      "execution_count": null,
      "outputs": [
        {
          "output_type": "stream",
          "name": "stdout",
          "text": [
            "<class 'pandas.core.frame.DataFrame'>\n",
            "RangeIndex: 3822 entries, 0 to 3821\n",
            "Data columns (total 12 columns):\n",
            " #   Column              Non-Null Count  Dtype  \n",
            "---  ------              --------------  -----  \n",
            " 0   label               3822 non-null   object \n",
            " 1   avg                 3822 non-null   float64\n",
            " 2   variance            3822 non-null   float64\n",
            " 3   bandwidth           3822 non-null   object \n",
            " 4   centroid            3822 non-null   object \n",
            " 5   rolloff             3822 non-null   object \n",
            " 6   rms                 3822 non-null   object \n",
            " 7   zero_crossing_rate  3822 non-null   object \n",
            " 8   peak                3822 non-null   float64\n",
            " 9   valley              3822 non-null   float64\n",
            " 10  contrast            3822 non-null   object \n",
            " 11  mfcc                3822 non-null   object \n",
            "dtypes: float64(4), object(8)\n",
            "memory usage: 358.4+ KB\n"
          ]
        }
      ]
    },
    {
      "cell_type": "code",
      "metadata": {
        "colab": {
          "base_uri": "https://localhost:8080/"
        },
        "id": "TaQ0o8T6KwUM",
        "outputId": "3cebadf6-06a8-4a56-dc86-5b91afe2f64c"
      },
      "source": [
        "art = wandb.Artifact('Features', type='table')\n",
        "art.add_file('extracted_features.csv')\n",
        "run.log_artifact(art)"
      ],
      "execution_count": null,
      "outputs": [
        {
          "output_type": "execute_result",
          "data": {
            "text/plain": [
              "<wandb.sdk.wandb_artifacts.Artifact at 0x7f6ef7746a10>"
            ]
          },
          "metadata": {},
          "execution_count": 61
        }
      ]
    },
    {
      "cell_type": "code",
      "metadata": {
        "id": "9GMAR2w0N7av"
      },
      "source": [
        ""
      ],
      "execution_count": null,
      "outputs": []
    }
  ]
}